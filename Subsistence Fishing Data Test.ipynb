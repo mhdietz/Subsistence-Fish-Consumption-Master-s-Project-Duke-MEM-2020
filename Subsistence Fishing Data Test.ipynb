{
 "cells": [
  {
   "cell_type": "markdown",
   "metadata": {},
   "source": [
    "# Subisistence Fishing on Cape Fear River"
   ]
  },
  {
   "cell_type": "markdown",
   "metadata": {},
   "source": [
    "Going through the data from intercept surveys, WIC clinic visits and online surveys collected during fall / winter 2019-2020 as part of the Steven Yang and Martin Dietz's master's project available [here]( https://dukespace.lib.duke.edu/dspace/handle/10161/20557)"
   ]
  },
  {
   "cell_type": "markdown",
   "metadata": {},
   "source": [
    "## Table of Contents\n",
    "* [Setup](#Setup)\n",
    "\t* [Useful Functions](#Useful-functions)\n",
    "    * [Cleaning the Data](#Cleaning-the-Data)\n",
    "* [Presenting our Results](#Presenting-our-Results)\n",
    "    * [Demographics](#Demographics)\n",
    "    * [Fish Species Consumed](#Fish-Species-Consumed)\n",
    "    * [Fishing Locations](#Fishing-Locations)\n",
    "    * [Quantity of Fish Consumed](#Quantity-of-Fish-Consumed)\n",
    "    * [Fish Sharing Behaviors](#Fish-Sharing-Behaviors)\n",
    "* [More Detailed Results](#More-Detailed-Results)\n",
    "    * [What do People do with Fish Other Than Eating?](#What-do-People-do-With-Fish-Other-Than-Eating?)\n",
    "    * [How are People Preparing and Cooking the Fish](#How-are-People-Preparing-and-Cooking-the-Fish?)\n",
    "    * [Are Fishing Advisories Visible and Easy to Understand?](#Are-Fishing-Advisories-Visible-and-Easy-to-Understand?)\n",
    "    * [Pollution Concerns](#Pollution-Concerns)\n",
    "\t* [Sources of Information](#Sources-of-Information)\n",
    "        * [Where do people get information on which fish are safe to eat?](#Where-do-people-get-information-on-which-fish-are-safe-to-eat?)\n",
    "        * [Where do people get trusted health information?](#Where-do-people-get-trusted-health-information?)\n",
    "    * [Feedback on Informational Materials](#Feedback-on-Informational-Materials)\n",
    "        * [Wallet Card](#Wallet-Card)\n",
    "\t\t* [Refrigerator Magnet](#Refrigerator-Magnet)\n",
    "    * [Likelihood, barriers, and motivations for different behaviors](#Likelihood,-barriers,-and-motivations-for-different-behaviors)\n",
    "    * [Final Comments](#Final-Comments)\n"
   ]
  },
  {
   "cell_type": "markdown",
   "metadata": {},
   "source": [
    "## Setup\n",
    "I do a few things here to setup for exploring our dataset:\n",
    "1. Import the library I used for programming ('pandas')\n",
    "2. Read in the data set. This data is from a 'master' csv file in which I combined the responses from intercept surveys, online surveys and WIC clinic surveys. \n",
    "3. Write a couple of helper functions that will be used throughout. \n",
    "4. Clean up the data, keeping only complete responses by filtering out our trial runs through the surveys and the responses from participants who don't eat fish from the river and therefore didn't go through all the questions."
   ]
  },
  {
   "cell_type": "code",
   "execution_count": 2,
   "metadata": {},
   "outputs": [],
   "source": [
    "import pandas as pd"
   ]
  },
  {
   "cell_type": "code",
   "execution_count": 3,
   "metadata": {},
   "outputs": [
    {
     "data": {
      "text/plain": [
       "(103, 95)"
      ]
     },
     "execution_count": 3,
     "metadata": {},
     "output_type": "execute_result"
    }
   ],
   "source": [
    "# not read_csv has many paramaters you can specify. First tring with no specifications\n",
    "df = pd.read_csv('master.csv')\n",
    "df.shape  # tells us that there are 103 rows and 96 columns in this dataset"
   ]
  },
  {
   "cell_type": "markdown",
   "metadata": {},
   "source": [
    "#### Useful functions\n",
    "Now I'll define a couple functions that will be useful for interpreting our data. __Please ignore this if you're not interested in the programming I did on the backend!__  The first function aggregates across multiple choice responses. When people selected many things, like many different cooking or preparation methods, this goes through and aggregates how many times each option was chosen. The second function filters out blanks and then prints a list of free form responses under a title starting with '>>>'"
   ]
  },
  {
   "cell_type": "code",
   "execution_count": 4,
   "metadata": {},
   "outputs": [],
   "source": [
    "def aggregate_mult_choice(column_header):\n",
    "    mask = df_completed[column_header].notna()  # This creates a mask we use to filter out blank responses\n",
    "    resp_list = df_completed[column_header][mask].tolist()\n",
    "    response_dict = {}\n",
    "    for resp in resp_list:\n",
    "        for choice in resp.split(','):\n",
    "            choice = choice.strip().lower()\n",
    "            if choice not in response_dict:\n",
    "                response_dict[choice] = 0\n",
    "            response_dict[choice] += 1\n",
    "    return response_dict\n",
    "def print_freeform_columns(list_of_headers):\n",
    "    for header in list_of_headers:  # This goes through each column in the list, filters blanks, and prints the responses\n",
    "            mask = df_completed[header].notna()\n",
    "            resp_list = df_completed[mask][header].tolist()\n",
    "            print('>>> ' + header[10:] + ' (verbal responses): ')   # this removes the 'FREE FORM ' from column head and prints the rest/\n",
    "            for resp in resp_list:\n",
    "                print(resp)"
   ]
  },
  {
   "cell_type": "markdown",
   "metadata": {},
   "source": [
    "#### Cleaning the Data\n",
    "We mostly completed intercept surveys with some activity online and a few from WIC clinics. Still, the above dataframe  ('df_answered') includes some respondents who didn't eat fish and also some tests of the survey that Steven and I completed. A condition for taking the whole survey was that the individual eats fish from the river, so I'll make a dataframe of qualified responses by keeping only the responses in which the respondent said 'Yes' to eating fish from the river, and therefore qualified to take the survey."
   ]
  },
  {
   "cell_type": "code",
   "execution_count": 45,
   "metadata": {},
   "outputs": [
    {
     "data": {
      "text/plain": [
       "(76, 95)"
      ]
     },
     "execution_count": 45,
     "metadata": {},
     "output_type": "execute_result"
    }
   ],
   "source": [
    "df_answered = df[df.finished == True]  # filtering out the responses which qualtrics determined were unfinished\n",
    "df_answered.shape # lets look at the shape of the new data set"
   ]
  },
  {
   "cell_type": "code",
   "execution_count": 6,
   "metadata": {},
   "outputs": [
    {
     "data": {
      "text/plain": [
       "(45, 95)"
      ]
     },
     "execution_count": 6,
     "metadata": {},
     "output_type": "execute_result"
    }
   ],
   "source": [
    "df_qualifies = df_answered[df_answered['resp_eat_fish'] == 'Yes']  # keeping only responses in which the respondent eats fish from CFR\n",
    "locationMask = df_qualifies.location.notna()  # making a mask for responses that are not blank ('NaN')\n",
    "df_completed = df_qualifies[locationMask]  # Now we create the modified database with complete responses \n",
    "df_completed.shape  # now we've kept only 45 rows (each representing a response) but still 96 columns (fields)"
   ]
  },
  {
   "cell_type": "markdown",
   "metadata": {},
   "source": [
    "To start lets see counts of responses by source (intercept, online, WIC)"
   ]
  },
  {
   "cell_type": "code",
   "execution_count": 7,
   "metadata": {},
   "outputs": [
    {
     "data": {
      "text/plain": [
       "intercept    37\n",
       "online        6\n",
       "WIC           2\n",
       "Name: source, dtype: int64"
      ]
     },
     "execution_count": 7,
     "metadata": {},
     "output_type": "execute_result"
    }
   ],
   "source": [
    "df_completed['source'].value_counts()"
   ]
  },
  {
   "cell_type": "markdown",
   "metadata": {},
   "source": [
    "So most of our completed surveys were intercept surveys, with a few online and a couple WIC"
   ]
  },
  {
   "cell_type": "markdown",
   "metadata": {},
   "source": [
    "## Presenting our Results"
   ]
  },
  {
   "cell_type": "markdown",
   "metadata": {},
   "source": [
    "### Demographics"
   ]
  },
  {
   "cell_type": "markdown",
   "metadata": {},
   "source": [
    "In the survey we asked people's gender identification, education level, and age. We also observed and recorded race, but those numbers can be seen in our presentation and write-up and are not in this dataset."
   ]
  },
  {
   "cell_type": "code",
   "execution_count": 8,
   "metadata": {},
   "outputs": [
    {
     "data": {
      "text/plain": [
       "18-20           1\n",
       "21-29           6\n",
       "30-39          11\n",
       "40-49           4\n",
       "50-59          10\n",
       "60 or older    12\n",
       "Name: age, dtype: int64"
      ]
     },
     "execution_count": 8,
     "metadata": {},
     "output_type": "execute_result"
    }
   ],
   "source": [
    "df_completed['age'].value_counts().sort_index()"
   ]
  },
  {
   "cell_type": "code",
   "execution_count": 9,
   "metadata": {},
   "outputs": [
    {
     "data": {
      "text/plain": [
       "Male      36\n",
       "Female     8\n",
       "Name: gender, dtype: int64"
      ]
     },
     "execution_count": 9,
     "metadata": {},
     "output_type": "execute_result"
    }
   ],
   "source": [
    "df_completed['gender'].value_counts()"
   ]
  },
  {
   "cell_type": "code",
   "execution_count": 10,
   "metadata": {},
   "outputs": [
    {
     "data": {
      "text/plain": [
       "High school diploma, or equivalent (for example, GED)    14\n",
       "Some college, no degree                                   9\n",
       "Bachelor degree                                           6\n",
       "Associate degree                                          6\n",
       "Less than high school degree                              5\n",
       "Graduate degree                                           2\n",
       "Name: educ, dtype: int64"
      ]
     },
     "execution_count": 10,
     "metadata": {},
     "output_type": "execute_result"
    }
   ],
   "source": [
    "df_completed['educ'].value_counts()"
   ]
  },
  {
   "cell_type": "markdown",
   "metadata": {},
   "source": [
    "This shows how we got our demographic figures, and it's clear that we reached mostly men of varying ages but of predominantly lower education levels."
   ]
  },
  {
   "cell_type": "markdown",
   "metadata": {},
   "source": [
    "### Fish Species Consumed"
   ]
  },
  {
   "cell_type": "code",
   "execution_count": 11,
   "metadata": {},
   "outputs": [],
   "source": [
    "# This gives me a list of the columns with data on the fish people eat. I'll use it to make another smaller dataframe\n",
    "col_list = []\n",
    "for col in df_completed.columns: \n",
    "    if col[0:3] == 'eat':\n",
    "        col_list.append(col)\n",
    "df_complete_fish = df_completed[col_list]"
   ]
  },
  {
   "cell_type": "markdown",
   "metadata": {},
   "source": [
    "'On' values means that the respondent selected that fish as a species they consume. I'd like to aggregate how many are 'On' in each column and present that."
   ]
  },
  {
   "cell_type": "code",
   "execution_count": 12,
   "metadata": {},
   "outputs": [],
   "source": [
    "# To make it easier to add, I want to replace 'On' with 1 and 'Off' with 0:\n",
    "df_complete_fish = df_complete_fish.replace({'On': 1, 'Off': 0})  # had to reassign it to a new df to avoid modifying df in place errors"
   ]
  },
  {
   "cell_type": "code",
   "execution_count": 13,
   "metadata": {},
   "outputs": [
    {
     "data": {
      "text/html": [
       "<div>\n",
       "<style scoped>\n",
       "    .dataframe tbody tr th:only-of-type {\n",
       "        vertical-align: middle;\n",
       "    }\n",
       "\n",
       "    .dataframe tbody tr th {\n",
       "        vertical-align: top;\n",
       "    }\n",
       "\n",
       "    .dataframe thead th {\n",
       "        text-align: right;\n",
       "    }\n",
       "</style>\n",
       "<table border=\"1\" class=\"dataframe\">\n",
       "  <thead>\n",
       "    <tr style=\"text-align: right;\">\n",
       "      <th></th>\n",
       "      <th>eats Flathead Catfish</th>\n",
       "      <th>eats Bowfin (Blackfish)</th>\n",
       "      <th>eats Blue Catfish</th>\n",
       "      <th>eats Channel Catfish</th>\n",
       "      <th>eats White Catfish</th>\n",
       "      <th>eats American Shad</th>\n",
       "      <th>eats Bluegill</th>\n",
       "      <th>eats Redbreast Sunfish</th>\n",
       "      <th>eats White Crappie</th>\n",
       "      <th>eats Striped Bass</th>\n",
       "      <th>eats Carp</th>\n",
       "      <th>eats Black Crappie</th>\n",
       "      <th>eats Warmouth</th>\n",
       "      <th>eats Green Sunfish</th>\n",
       "      <th>eats Largemouth Bass</th>\n",
       "      <th>eats Redear Sunfish</th>\n",
       "      <th>eats Hickory Shad</th>\n",
       "    </tr>\n",
       "  </thead>\n",
       "  <tbody>\n",
       "    <tr>\n",
       "      <th>Total</th>\n",
       "      <td>8</td>\n",
       "      <td>0</td>\n",
       "      <td>9</td>\n",
       "      <td>10</td>\n",
       "      <td>5</td>\n",
       "      <td>2</td>\n",
       "      <td>4</td>\n",
       "      <td>1</td>\n",
       "      <td>1</td>\n",
       "      <td>7</td>\n",
       "      <td>0</td>\n",
       "      <td>3</td>\n",
       "      <td>2</td>\n",
       "      <td>0</td>\n",
       "      <td>3</td>\n",
       "      <td>3</td>\n",
       "      <td>1</td>\n",
       "    </tr>\n",
       "  </tbody>\n",
       "</table>\n",
       "</div>"
      ],
      "text/plain": [
       "       eats Flathead Catfish  eats Bowfin (Blackfish)  eats Blue Catfish  \\\n",
       "Total                      8                        0                  9   \n",
       "\n",
       "       eats Channel Catfish  eats White Catfish  eats American Shad  \\\n",
       "Total                    10                   5                   2   \n",
       "\n",
       "       eats Bluegill  eats Redbreast Sunfish  eats White Crappie  \\\n",
       "Total              4                       1                   1   \n",
       "\n",
       "       eats Striped Bass  eats Carp  eats Black Crappie  eats Warmouth  \\\n",
       "Total                  7          0                   3              2   \n",
       "\n",
       "       eats Green Sunfish  eats Largemouth Bass  eats Redear Sunfish  \\\n",
       "Total                   0                     3                    3   \n",
       "\n",
       "       eats Hickory Shad  \n",
       "Total                  1  "
      ]
     },
     "execution_count": 13,
     "metadata": {},
     "output_type": "execute_result"
    }
   ],
   "source": [
    "# Now to sum up each column and then present that row\n",
    "df_complete_fish = df_complete_fish.append(df_complete_fish.sum().rename('Total'))\n",
    "df_complete_fish.tail(1)"
   ]
  },
  {
   "cell_type": "markdown",
   "metadata": {},
   "source": [
    "This shows the total! <br> <font color = 'blue' > NOTE: the above totals exclude the write-in responses! Our chart showed mostly freshwater fish, but it turns out the people eat many brackish water species. <br> Also NOTE: we didn't make it clear that we were also asking about shellfish. More people than reported might eat blue crab.<br> Final NOTE: bluegill showed up twice in survey's menu of options (maybe intentional to show two different types?). In cleaning up the data I combined the responses in to one column for bluegill."
   ]
  },
  {
   "cell_type": "markdown",
   "metadata": {},
   "source": [
    "Now let's take a look at the verbal responses that Steven and I recorded:"
   ]
  },
  {
   "cell_type": "code",
   "execution_count": 14,
   "metadata": {
    "scrolled": true
   },
   "outputs": [
    {
     "data": {
      "text/plain": [
       "[('red drum', 21),\n",
       " ('black drum', 19),\n",
       " ('speckled trout', 15),\n",
       " ('flounder', 8),\n",
       " ('croaker', 7),\n",
       " ('spot', 6),\n",
       " ('sheepshead', 6),\n",
       " ('blue fish', 5),\n",
       " ('whiting', 4),\n",
       " ('pig fish', 2),\n",
       " ('blue crab', 2),\n",
       " ('chipre black and white', 1),\n",
       " ('gar', 1),\n",
       " ('mojarra', 1),\n",
       " ('gray fish', 1),\n",
       " ('sand perch', 1),\n",
       " ('red snapper', 1),\n",
       " ('la chipa', 1),\n",
       " ('redfish', 1),\n",
       " ('tripletail', 1),\n",
       " ('puffer fish', 1),\n",
       " ('not sure', 1),\n",
       " ('smaller fish', 1)]"
      ]
     },
     "execution_count": 14,
     "metadata": {},
     "output_type": "execute_result"
    }
   ],
   "source": [
    "verbal_fish_dict = aggregate_mult_choice('FREE FORM other fish')\n",
    "sorted(verbal_fish_dict.items(), key = lambda x: x[1], reverse = True)  # This prints the dictionary in order - lots of drum!"
   ]
  },
  {
   "cell_type": "markdown",
   "metadata": {},
   "source": [
    "Here we've seen our verbal and our recorded responses in the survey! Amidst the recorded responses, people often selected various types of catfish, primarily channel catfish. In the verbal responses red and black drum were most commonly mentioned."
   ]
  },
  {
   "cell_type": "markdown",
   "metadata": {},
   "source": [
    "### Fishing Locations\n",
    "<br> NOTE: We have a heat map that qualtrics created from a map in our survey that users could click on! I won't present that data here b/c it's well presented in qualtrics, our write-up, and our presentation. But here's the list of verbal responses for places people fish that they couldn't find on the map:"
   ]
  },
  {
   "cell_type": "code",
   "execution_count": 15,
   "metadata": {},
   "outputs": [
    {
     "name": "stdout",
     "output_type": "stream",
     "text": [
      ">>> fishing locations (verbal responses): \n",
      "Beaches like wrightsville. Kerr. Carolina. \n",
      "Fort Fischer. Wrightsville Beach in Bridge. Red man creek by Wilmington \n",
      "Snows cut \n",
      "Snows cut, wrightsville beach, NC wildlife ramp under bridge \n",
      "River road st Park and up and down stream\n",
      "Cure beach\n",
      "snows cut, Carolina beach inlet\n",
      "Resize map\n",
      "Princess Place, Carolina beach st park, snows cut \n",
      "Belville \n",
      "Curry beach\n",
      "I Intercostal waters. Mouth of river\n",
      "Roanoke rapids\n",
      "Solomon towers, chamber of commerce, love grove\n",
      "Snows cut\n",
      "Black river\n",
      "Eagle island bait shop on 421. Talk to people there\n",
      "Beaches and piers\n"
     ]
    }
   ],
   "source": [
    "print_freeform_columns(['FREE FORM fishing locations'])"
   ]
  },
  {
   "cell_type": "markdown",
   "metadata": {},
   "source": [
    "### Quantity of Fish Consumed"
   ]
  },
  {
   "cell_type": "code",
   "execution_count": 18,
   "metadata": {},
   "outputs": [
    {
     "data": {
      "text/plain": [
       "About 1 portion         17\n",
       "About 2 portions        17\n",
       "About 3 portions         6\n",
       "About 4 portions         2\n",
       "About 5 portions         2\n",
       "More than 5 portions     1\n",
       "Name: portions in a meal, dtype: int64"
      ]
     },
     "execution_count": 18,
     "metadata": {},
     "output_type": "execute_result"
    }
   ],
   "source": [
    "df_completed['portions in a meal'].value_counts().sort_index()"
   ]
  },
  {
   "cell_type": "code",
   "execution_count": 19,
   "metadata": {},
   "outputs": [
    {
     "data": {
      "text/plain": [
       "1-3 meals            34\n",
       "4-6 meals             6\n",
       "7-9 meals             1\n",
       "More than 9 meals     4\n",
       "Name: meals per month, dtype: int64"
      ]
     },
     "execution_count": 19,
     "metadata": {},
     "output_type": "execute_result"
    }
   ],
   "source": [
    "df_completed['meals per month'].value_counts().sort_index()"
   ]
  },
  {
   "cell_type": "markdown",
   "metadata": {},
   "source": [
    "The above indicates that 1 to 2 portions in a meal are most common, and that overwhelmingly our respondents report eating just one to three meals per month."
   ]
  },
  {
   "cell_type": "markdown",
   "metadata": {},
   "source": [
    "### Fish Sharing Behaviors\n",
    "____\n",
    "<font color = 'red'> NOTE: In the original survey we included an option for people to say \"Both: I eat it myself and share with others.\" We've since realized this was unnecessary b/c we ask at the beginning of the survey if people eat the fish themselves, so if a respondent is at this point in the survey then we know that they eat fish! So, in this dataset I replaced all the \"Both\" options with \"Yes\""
   ]
  },
  {
   "cell_type": "code",
   "execution_count": 20,
   "metadata": {},
   "outputs": [
    {
     "data": {
      "text/plain": [
       "Yes    41\n",
       "No      4\n",
       "Name: shares fish with others, dtype: int64"
      ]
     },
     "execution_count": 20,
     "metadata": {},
     "output_type": "execute_result"
    }
   ],
   "source": [
    "df_completed['shares fish with others'].value_counts()"
   ]
  },
  {
   "cell_type": "code",
   "execution_count": 21,
   "metadata": {},
   "outputs": [
    {
     "data": {
      "text/plain": [
       "0            25\n",
       "1 to 3       12\n",
       "4 to 6        2\n",
       "6 or more     1\n",
       "Name: number of people <15 , dtype: int64"
      ]
     },
     "execution_count": 21,
     "metadata": {},
     "output_type": "execute_result"
    }
   ],
   "source": [
    "df_completed['number of people <15 '].value_counts().sort_index()"
   ]
  },
  {
   "cell_type": "code",
   "execution_count": 22,
   "metadata": {},
   "outputs": [
    {
     "data": {
      "text/plain": [
       "0            13\n",
       "1 to 3       24\n",
       "4 to 6        1\n",
       "6 or more     3\n",
       "Name: number of fem 15-44, dtype: int64"
      ]
     },
     "execution_count": 22,
     "metadata": {},
     "output_type": "execute_result"
    }
   ],
   "source": [
    "df_completed['number of fem 15-44'].value_counts().sort_index()"
   ]
  },
  {
   "cell_type": "markdown",
   "metadata": {},
   "source": [
    "From this it is clear that sharing is very common. It mostly occurs with women of childbearing age, but a substantial number of respondents also report sharing with children."
   ]
  },
  {
   "cell_type": "markdown",
   "metadata": {},
   "source": [
    "## More Detailed Results"
   ]
  },
  {
   "cell_type": "markdown",
   "metadata": {},
   "source": [
    "### What do People do With Fish Other Than Eating?"
   ]
  },
  {
   "cell_type": "code",
   "execution_count": 16,
   "metadata": {},
   "outputs": [
    {
     "data": {
      "text/plain": [
       "{'catch and release': 29, 'other': 8}"
      ]
     },
     "execution_count": 16,
     "metadata": {},
     "output_type": "execute_result"
    }
   ],
   "source": [
    "other_resp_dict = aggregate_mult_choice('fish use other than eating')\n",
    "other_resp_dict"
   ]
  },
  {
   "cell_type": "markdown",
   "metadata": {},
   "source": [
    "And let's take a look at some of the verbal responses we noted:"
   ]
  },
  {
   "cell_type": "code",
   "execution_count": 17,
   "metadata": {},
   "outputs": [
    {
     "name": "stdout",
     "output_type": "stream",
     "text": [
      ">>> other use (verbal responses): \n",
      "Give away too\n",
      "Share with friends and family \n",
      "Share an old couple\n",
      "Share fish with neighbors \n",
      "Compartir\n",
      "Cut up shad for bait\n",
      "Share it, use for bait\n",
      "Give away free. Neighbors family friends. \n"
     ]
    }
   ],
   "source": [
    "print_freeform_columns(['FREE FORM other use'])"
   ]
  },
  {
   "cell_type": "markdown",
   "metadata": {},
   "source": [
    "This question shows that catch and release is very common, and the verbal responses indicate a high degree of sharing fish out in the community."
   ]
  },
  {
   "cell_type": "markdown",
   "metadata": {},
   "source": [
    "### How are People Preparing and Cooking the Fish?"
   ]
  },
  {
   "cell_type": "code",
   "execution_count": 23,
   "metadata": {},
   "outputs": [
    {
     "data": {
      "text/plain": [
       "{'fried': 38,\n",
       " 'baked': 17,\n",
       " 'grilled': 15,\n",
       " 'other (explain):': 10,\n",
       " 'steamed': 3,\n",
       " 'smoked': 4,\n",
       " 'stewed': 2,\n",
       " 'boiled': 2}"
      ]
     },
     "execution_count": 23,
     "metadata": {},
     "output_type": "execute_result"
    }
   ],
   "source": [
    "cooking_methods = aggregate_mult_choice('cooking methods')\n",
    "cooking_methods"
   ]
  },
  {
   "cell_type": "markdown",
   "metadata": {},
   "source": [
    "There were some interesting verbal responses to preparation methods. Here they are:"
   ]
  },
  {
   "cell_type": "code",
   "execution_count": 24,
   "metadata": {},
   "outputs": [
    {
     "name": "stdout",
     "output_type": "stream",
     "text": [
      ">>> cooking (verbal responses): \n",
      "Blackened \n",
      "Sopa\n",
      "Blackened \n",
      "Almost entirely catch and release\n",
      "Ceviche con limon, parrillar con limon, estofado \n",
      "Cast iron skillet\n",
      "Broil\n",
      "Flour and cornmeal in hot grease\n",
      "Grill with wood chips\n",
      "Already spiced with genes\n"
     ]
    }
   ],
   "source": [
    "print_freeform_columns(['FREE FORM cooking'])"
   ]
  },
  {
   "cell_type": "markdown",
   "metadata": {},
   "source": [
    "^^^ Note that the last verbal response has a typo. This person said 'Already spiced with genex'."
   ]
  },
  {
   "cell_type": "code",
   "execution_count": 25,
   "metadata": {},
   "outputs": [
    {
     "data": {
      "text/plain": [
       "[('remove scales', 32),\n",
       " ('remove fish organs', 30),\n",
       " ('fillet (only meat with no fat skin or bones)', 29),\n",
       " ('remove head', 27),\n",
       " ('remove skin', 18),\n",
       " ('remove fat', 8),\n",
       " ('other (explain):', 6)]"
      ]
     },
     "execution_count": 25,
     "metadata": {},
     "output_type": "execute_result"
    }
   ],
   "source": [
    "preparation_methods = aggregate_mult_choice('preparation methods')\n",
    "sorted(preparation_methods.items(), key = lambda x: x[1], reverse = True)  # This prints the dictionary in order"
   ]
  },
  {
   "cell_type": "markdown",
   "metadata": {},
   "source": [
    "There were also some verbal responses about preparation methods, lets check those out:"
   ]
  },
  {
   "cell_type": "code",
   "execution_count": 26,
   "metadata": {},
   "outputs": [
    {
     "name": "stdout",
     "output_type": "stream",
     "text": [
      ">>> preparation (verbal responses): \n",
      "Limon para evitar bacteria, \n",
      "Butterfly it and grill it with onions\n",
      "Every once in a while pan fry whole fish no head\n",
      "A veces piel y cabeza\n",
      "Stuff with shrimp, crab, red pepper, yellow \n",
      "Soak in sea salt water 24 hours. Takes fish taste out\n"
     ]
    }
   ],
   "source": [
    "print_freeform_columns(['FREE FORM preparation'])"
   ]
  },
  {
   "cell_type": "markdown",
   "metadata": {},
   "source": [
    "These results show the popular cooking methods (primarily frying) and the most common means of preparation as well as some interesting verbal explanations"
   ]
  },
  {
   "cell_type": "markdown",
   "metadata": {},
   "source": [
    "### Are Fishing Advisories Visible and Easy to Understand?"
   ]
  },
  {
   "cell_type": "code",
   "execution_count": 27,
   "metadata": {},
   "outputs": [
    {
     "data": {
      "text/plain": [
       "Yes    30\n",
       "No     15\n",
       "Name: seen fish advisories, dtype: int64"
      ]
     },
     "execution_count": 27,
     "metadata": {},
     "output_type": "execute_result"
    }
   ],
   "source": [
    "df_completed['seen fish advisories'].value_counts()"
   ]
  },
  {
   "cell_type": "markdown",
   "metadata": {},
   "source": [
    "### Pollution Concerns\n",
    "We asked people whether or not they were concerned about pollution in the river, and got some insightful follow up verbal responses!"
   ]
  },
  {
   "cell_type": "code",
   "execution_count": 28,
   "metadata": {},
   "outputs": [
    {
     "data": {
      "text/plain": [
       "Yes    37\n",
       "No      7\n",
       "Name: pollution concerns, dtype: int64"
      ]
     },
     "execution_count": 28,
     "metadata": {},
     "output_type": "execute_result"
    }
   ],
   "source": [
    "df_completed['pollution concerns'].value_counts()"
   ]
  },
  {
   "cell_type": "code",
   "execution_count": 29,
   "metadata": {},
   "outputs": [
    {
     "name": "stdout",
     "output_type": "stream",
     "text": [
      ">>> pollution concerns (verbal responses): \n",
      "People need to stop dumping in the river\n",
      "Mercury , sewage \n",
      "Checks but nothing really. Checks for worms\n",
      "Fish population are low, hard to reproduce with limited fish. Health effects from chemicals. \n",
      "La basura contamina el río. Every time I see trash I pick it up\n",
      "Cancer and health issues. Gen X , coal ash, dead fish kills\n",
      "sewage. More salt now cuz its better\n",
      "unsure whats in it...so thats why. Something is wrong with cfr\n",
      "Down the river sewage discharge from norchase. Just knowing what’s on the river. A chemical plant producing chromium. Hog farms and chicken farms\n",
      "Plastic and waste goes in.\n",
      "pollution in river gets him worried\n",
      "Littering at fishing spots and water \n",
      "Don’t know what’s in water. Gasoline, genex\n",
      "Que los peces están muriendo\n",
      "Bacteria, salmonela, but ceviche helps\n",
      "Mercury and lead . Fish eating trash and parasites. \n",
      "Contamination. Dumping in water. Not just trash\n",
      "Sewage outlet at wrightsville beach. And genex\n",
      "Dead fish, plastic trash\n",
      "Concerned but doesn’t know what to think.\n",
      "Sometimes. Striped bass. No complaints about taste\n",
      "Very aware of pollution. Concerned that government allows corporations to get away with it.\n",
      "Trash, and oil\n",
      "Genex\n",
      "Worried about shit pumping plants, dumping raw sewage. Smith creek Hewlett-Packard creek. \n",
      "Water quality pollution concerns. \n",
      "In the freshwater he’s worried\n",
      "Upriver from here 5eres genex so they don’t eat the fish\n",
      "Coal ash and gen x. Gen x been around for a while. Since 1970s\n",
      "Black spots on the skin. Doesn’t know what it is\n",
      "Poision fish, toxins in fish\n",
      "I had kidney cancer at age 39. I \n",
      "heavy metal content\n",
      "Effect of pollutants/hurricanes/runoff on fish meat\n",
      "mercury \n",
      "Que no va haber pescaditos\n"
     ]
    }
   ],
   "source": [
    "print_freeform_columns(['FREE FORM pollution concerns'])"
   ]
  },
  {
   "cell_type": "markdown",
   "metadata": {},
   "source": [
    "Indicates that people are overwhelmingly concerned about pollution in the river and in the fish. The verbal responses shed light on the many forms that these concerns take!"
   ]
  },
  {
   "cell_type": "markdown",
   "metadata": {},
   "source": [
    "### Sources of Information"
   ]
  },
  {
   "cell_type": "markdown",
   "metadata": {},
   "source": [
    "#### Where do people get information on which fish are safe to eat?"
   ]
  },
  {
   "cell_type": "code",
   "execution_count": 30,
   "metadata": {},
   "outputs": [
    {
     "data": {
      "text/plain": [
       "[('news', 21),\n",
       " ('other', 17),\n",
       " ('internet', 15),\n",
       " ('other people that are fishing', 11),\n",
       " ('family or friends', 8),\n",
       " ('signs and posters', 5),\n",
       " ('government', 4),\n",
       " ('bait and fishing shops', 3),\n",
       " ('schools', 1),\n",
       " ('radio', 1)]"
      ]
     },
     "execution_count": 30,
     "metadata": {},
     "output_type": "execute_result"
    }
   ],
   "source": [
    "sources_of_info = aggregate_mult_choice('sources of information')\n",
    "sorted(sources_of_info.items(), key = lambda x: x[1], reverse = True)  # This prints the dictionary in order"
   ]
  },
  {
   "cell_type": "code",
   "execution_count": 31,
   "metadata": {},
   "outputs": [
    {
     "name": "stdout",
     "output_type": "stream",
     "text": [
      ">>> bait and tackle shops (verbal responses): \n",
      "tex's tackle\n",
      "all I visit\n",
      ">>> news sources (verbal responses): \n",
      "Channel 6\n",
      "Local channel 26.1. Local tv not cable\n",
      "Carolina outdoor (tv program)\n",
      "Morningstar, google for waste entering smith creek\n",
      "Tv local\n",
      "wilmington newspaper\n",
      "local (wect, wway)\n",
      ">>> internet sources (verbal responses): \n",
      "Tide table website\n",
      "Science \n",
      "NC wildlife resources commission\n",
      ">>> government sources (verbal responses): \n",
      "Nc dept of wildlife\n",
      "state\n",
      "marine fisheries, noaa, samfc\n",
      "north carolina public health and DEQ website, EPA\n",
      ">>> sign sources (verbal responses): \n",
      "Signs that say don’t leave trash\n",
      "boat ramps\n",
      "all posted signage\n",
      ">>> other sources (verbal responses): \n",
      "Wildlife officer\n",
      "Fish Rules\n",
      "Personal knowledge. \n",
      "Commercial fishermen that are out there alll the time \n",
      "license vendors\n",
      "Work\n",
      "I see it\n",
      "Fisherman’s post. Distributed in bait shops and restaurants in the summer\n",
      "Magazines\n",
      "fishing magazine available at store that sells licenses. Also people buy licenses online\n",
      "The internet\n",
      "Trust yourself. Experience. \n",
      "Personal experience \n",
      "He just knows, looks unsafe\n",
      "Own research\n",
      "Never have this kind of information\n"
     ]
    }
   ],
   "source": [
    "# And now for a look at the verbal responses that we got, clarifying these selections:\n",
    "list_of_columns = ['FREE FORM bait and tackle shops', 'FREE FORM news sources', 'FREE FORM internet sources', \n",
    "                   'FREE FORM government sources', 'FREE FORM sign sources', 'FREE FORM other sources']\n",
    "print_freeform_columns(list_of_columns)"
   ]
  },
  {
   "cell_type": "markdown",
   "metadata": {},
   "source": [
    "Now a look at the verbal responses for when we asked, \"what would be the best way of sharing such information?\""
   ]
  },
  {
   "cell_type": "code",
   "execution_count": 32,
   "metadata": {},
   "outputs": [
    {
     "name": "stdout",
     "output_type": "stream",
     "text": [
      ">>> best sources (verbal responses): \n",
      "News and bait shops\n",
      "Seminar with local fishermen. They’d be happy to attend if it’s about water quality or fish. County arboretum. Or county natural resources dept. \n",
      "Tackle shop near Wrightsville beach, tackle shops\n",
      "Boat landings. \n",
      "Radio in Spanish, hablar con personas\n",
      "Word of mouth \n",
      "Televisión y radio. Radio la grande, El patrón\n",
      "tackle shops. Island bait and tackle. \n",
      "Advisories and information when you get licens\n",
      "Through talking to other fishers\n",
      "Tackle shops\n",
      "No idea\n",
      "Social media. Bait shops. Word of mouth. Academy. \n",
      "Bait shops. \n",
      "Word of mouth and internet\n",
      "No se\n",
      "sea view\n",
      "Word. Mouth\n",
      "Post at dock (behind glass)\n",
      "Johnny Mercer pier, curry beach pier, state, signs or wallet, \n",
      "Online is good\n",
      "Bait shop\n",
      "Bait shops\n",
      "Facebook follow cape fear river watch\n",
      "YouTube, fishbrain\n",
      "Talk to people\n",
      "Personal experience to get info. \n",
      "Que tengan cuidado y laven bien. Radio. Videos.\n",
      "If we can get signs, that’s best\n",
      "Bait shops. Walmart. Rural people drawn in\n",
      "Fisherman’s.com. Has weather could also have advisor\n",
      "Local media including internet, facebook, etc.  Governors statement would be authoritative.  However some of us love fish and love to fish and ignore the risk\n",
      "newspaper, bait shops, NC wildlife resources comm\n",
      "Flyers in tackle shops or sporting goods depts, informational sponsored ads online geared towards fishermen, commercials on local tv / radio, spokesman present at educational seminars/boat shows/fishing clubs around the state   \n",
      "Stores, at the public ramps all Wilmington schools no just around the river\n",
      "Churches, community events.\n",
      "The clinic\n",
      "Internet\n"
     ]
    }
   ],
   "source": [
    "print_freeform_columns(['FREE FORM best sources'])"
   ]
  },
  {
   "cell_type": "markdown",
   "metadata": {},
   "source": [
    "#### Where do people get trusted health information?\n",
    "<br> Also regarding sources of information, we asked where people get trusted health information:"
   ]
  },
  {
   "cell_type": "code",
   "execution_count": 33,
   "metadata": {},
   "outputs": [
    {
     "data": {
      "text/plain": [
       "[('health clinic', 13),\n",
       " ('internet', 12),\n",
       " ('other', 8),\n",
       " ('family/friends', 4),\n",
       " ('church', 1)]"
      ]
     },
     "execution_count": 33,
     "metadata": {},
     "output_type": "execute_result"
    }
   ],
   "source": [
    "health_info = aggregate_mult_choice('health information sources')\n",
    "sorted(health_info.items(), key = lambda x: x[1], reverse = True)  # This prints the dictionary in order"
   ]
  },
  {
   "cell_type": "code",
   "execution_count": 34,
   "metadata": {},
   "outputs": [
    {
     "name": "stdout",
     "output_type": "stream",
     "text": [
      ">>> internet health sources (verbal responses): \n",
      "Fishing sites\n",
      "Fisherman’s guide\n",
      "Epa, fisheries division, state of nc\n",
      "Pub med\n",
      "Government Websites - I used EPA website a lot but there is not much information there anymore.  I use the NC public health website now most often\n",
      ">>> other health sources (verbal responses): \n",
      "Dept of wildlife resource.  \n",
      "news. Like genx\n",
      "Work and learning chrmicals.\n",
      "Stores or someone who works at international paper\n",
      "Healthdept\n",
      "Postings on dock, fishing magazine cautions\n",
      "News\n",
      "physician\n"
     ]
    }
   ],
   "source": [
    "freeform_health_sources = ['FREE FORM internet health sources', 'FREE FORM other health sources']\n",
    "print_freeform_columns(freeform_health_sources)"
   ]
  },
  {
   "cell_type": "markdown",
   "metadata": {},
   "source": [
    "We see that people refer to many sources of information! The follow up on selections in the verbal responses shows some reliance on personal knowledge and also the specific news sources, websites and government agencies that people learn from. Finally, the verbal responses we recorded about best sources of information frequently mention tackle shops, signage, and many other creative information sources that this project might leverage."
   ]
  },
  {
   "cell_type": "markdown",
   "metadata": {},
   "source": [
    "#### Fish Advisories: Are they useful, why or why don't they affect people's decisions?"
   ]
  },
  {
   "cell_type": "code",
   "execution_count": 35,
   "metadata": {},
   "outputs": [
    {
     "name": "stdout",
     "output_type": "stream",
     "text": [
      "seen fish advisories: \n",
      "{'yes': 30, 'no': 15}\n",
      "fish advisories easy to understand: \n",
      "{'yes': 27, 'no': 2}\n",
      "fish advisories affect decision: \n",
      "{'yes': 15, 'no': 13}\n"
     ]
    }
   ],
   "source": [
    "columns = ['seen fish advisories', 'fish advisories easy to understand', 'fish advisories affect decision']\n",
    "for header in columns:\n",
    "    fish_advisory_resp = aggregate_mult_choice(header)\n",
    "    print(header + ': ')\n",
    "    print(fish_advisory_resp)"
   ]
  },
  {
   "cell_type": "markdown",
   "metadata": {},
   "source": [
    "We asked for follow-up information on whether or not fish advisories affected individual choices ot eat fish:"
   ]
  },
  {
   "cell_type": "code",
   "execution_count": 36,
   "metadata": {},
   "outputs": [
    {
     "name": "stdout",
     "output_type": "stream",
     "text": [
      ">>> affected decision (verbal responses): \n",
      "Stay away from high mercury fish\n",
      "A little bit. Health reasons, good to know what’s In my body \n",
      "Si hay una señal que dice no comer, no lo haria\n",
      "Not very specific but they work\n",
      "Taking no chances. \n",
      "If posted yes\n",
      "Coming from New York you only want to eat one fish a month. Still learning down here. Thinks it’s pretty bad here \n",
      "Somewhat. In a way cuz she doesn’t eat them every day. \n",
      "Because of the risk\n",
      "Yes.  I always follow those guidelines\n",
      ">>> did not affect decision (verbal responses): \n",
      "doesn't care. Worry about Kids.\"Gonna die anyway\"\n",
      "Do my thing\n",
      "Picky eater \n",
      "Only on tv did they see that there’s a type of fish not to eat\n",
      "Not really. Taste matters. If taste bad then not eat \n",
      "No beacuse he just cooks it well\n",
      "No because going after particular fish that the signs don’t talk about\n",
      "Don’t read a whole lot of it\n",
      "Catfish there’s no limit on what you can eat\n",
      "Brother does fishing\n",
      "Different fish\n"
     ]
    }
   ],
   "source": [
    "# And now for a look at the verbal responses that we got, clarifying these selections:\n",
    "list_of_columns = ['FREE FORM affected decision', 'FREE FORM did not affect decision']\n",
    "print_freeform_columns(list_of_columns)"
   ]
  },
  {
   "cell_type": "markdown",
   "metadata": {},
   "source": [
    "These responses suggest that people see and mostly understand fishing advisories. Responses are mixed with regards to whether or not these advisories influence decisions. For those that were influenced by fishing advisories, the reason was often to err on the side of caution or just trusting that if a sign is posted it is in their best interest to follow its advice. For those that were influenced by signage, responses exhibited self-reliance or instances where the fish mentioned on signs don't correspond to what they catch."
   ]
  },
  {
   "cell_type": "markdown",
   "metadata": {},
   "source": [
    "### Feedback on Informational Materials:"
   ]
  },
  {
   "cell_type": "markdown",
   "metadata": {},
   "source": [
    "#### Wallet Card\n",
    "First we had a multiple choice question about what people took away from the card:"
   ]
  },
  {
   "cell_type": "code",
   "execution_count": 37,
   "metadata": {},
   "outputs": [
    {
     "data": {
      "text/plain": [
       "[('other', 24),\n",
       " ('some fish may have more contaminants than others', 22),\n",
       " ('some fish are safer to eat than others', 18),\n",
       " ('pregnant women and women between age 15-44 should not eat fish that may have mercury',\n",
       "  10)]"
      ]
     },
     "execution_count": 37,
     "metadata": {},
     "output_type": "execute_result"
    }
   ],
   "source": [
    "wallet_card_message = aggregate_mult_choice('wallet card takeaway')\n",
    "sorted(wallet_card_message.items(), key = lambda x: x[1], reverse = True)  # This prints the dictionary in order"
   ]
  },
  {
   "cell_type": "markdown",
   "metadata": {},
   "source": [
    "People followed up on their 'other' takeaways verbally. Here are those responses:"
   ]
  },
  {
   "cell_type": "code",
   "execution_count": 38,
   "metadata": {},
   "outputs": [
    {
     "name": "stdout",
     "output_type": "stream",
     "text": [
      ">>> other takeaway (verbal responses): \n",
      "Check what your eating \n",
      "Por algunos pescados hay que leer avisos antes de comer\n",
      "Stop and check for contamination, where? \n",
      "fish variety\n",
      "website was noticeable. \n",
      "Catfish are bottom feeders\n",
      "Shrimps not a fish. Humans are the cause of the contamination \n",
      "motto. Two different messages . To eat and to catch\n",
      "Got Tv news about fish contaminants \n",
      "I would think they’re all polluted the same\n",
      "Striped mullet run\n",
      "Stop and check\n",
      "Interesting that striped bass is on there. Wouldn’t think high levels of mercury, disturbing to see blue crab. \n",
      "Don’t eat too many of the same \n",
      "Good public advisory \n",
      "Saltwater fish safe to eat except catch fish. Catfish everyone knows have lots of mercury\n",
      "The safest ones are saltymp\n",
      "Freshwater. Comment on blue crabs. \n",
      "Can’t read\n",
      "Catfish and blue crab are scavengers\n",
      "Where I can call\n",
      "We have a problem\n",
      "Interesting\n"
     ]
    }
   ],
   "source": [
    "print_freeform_columns(['FREE FORM other takeaway'])"
   ]
  },
  {
   "cell_type": "markdown",
   "metadata": {},
   "source": [
    "We also asked whether or not the wallet card seemed useful:"
   ]
  },
  {
   "cell_type": "code",
   "execution_count": 39,
   "metadata": {},
   "outputs": [
    {
     "data": {
      "text/plain": [
       "[('yes', 31), ('no', 10)]"
      ]
     },
     "execution_count": 39,
     "metadata": {},
     "output_type": "execute_result"
    }
   ],
   "source": [
    "wallet_card_useful = aggregate_mult_choice('wallet card useful')\n",
    "sorted(wallet_card_useful.items(), key = lambda x: x[1], reverse = True)  # This prints the dictionary in order"
   ]
  },
  {
   "cell_type": "markdown",
   "metadata": {},
   "source": [
    "And finally we collected some free form responses on why or why not the respondent found it useful, and what we could do to improve it:"
   ]
  },
  {
   "cell_type": "code",
   "execution_count": 40,
   "metadata": {},
   "outputs": [
    {
     "name": "stdout",
     "output_type": "stream",
     "text": [
      ">>> wallet card useful (verbal responses): \n",
      "Especially tourists\n",
      "Easy to remember content\n",
      "Yes. Add this to license purchases. \n",
      "Especially people that don’t know about mercury\n",
      "For people not from around here this would be useful.\n",
      "If they don’t know. Experienced angler should know what to eat. \n",
      "People with kids probs will. \n",
      "Maybe.   May check it \n",
      "fits in wallet\n",
      "If they are interested in food safety they would check the cards.  If they are not interested in water quality and its effects then they aren't going to have this wallet card.\n",
      "If those are with chemicals and contamination is probably\n",
      "I have one for ticks so I would use this one too.\n",
      ">>> wallet card not useful (verbal responses): \n",
      "Probably not fisherman make mind up after catching fish and examining\n",
      "When you get your permit you get all that info. Also he doesn’t know the name ps of all the fish\n",
      "Nice but ppl do what they want to do. If he had family he'd be concerned. \n",
      "not sure\n",
      "If they’re gonna catch fish they’ll eat them\n",
      "Upon getting info don’t need card\n",
      "We eat what we catch\n",
      ">>> improve wallet card (verbal responses): \n",
      "Southern kingfish, potentially change name. Not as common neither. \n",
      "Include size limits \n",
      "Red drum. \n",
      "Emphasizing which not to eat\n",
      "Red drum, black drum, flounder ?what about them. \n",
      "number to wildlife commission\n",
      "Traducción \n",
      "Sponsorship. Discount at cold stone or something\n",
      "Distinguish more between salt fresh and both.\n",
      "Add size limits and have it responsive to what you can keep\n",
      "Cual no comer\n",
      "Jaiba\n",
      "Add it to license purchases. \n",
      "Writing is small\n",
      "Make the images bigger, combine the pages with fish to eat and not to\n",
      "Should have periodic updates.\n",
      "What does stop and check mean?\n",
      "Nothing . Striped bass you can’t keep anyway\n",
      "Add crawfish, add croakers, add black drum and sheepshead\n",
      "Write cape fear river on top more clearly\n",
      "Include more brackish\n",
      "Post more of it around the river. \n",
      "For the stop and check fish what to look for, what are the high contaminants?\n",
      "Get more freshwater fish on there\n",
      "Get crappie on there\n",
      "Get flounder on there opening in next few months?\n",
      "Freshwater fish not as applicable.\n",
      "Más visual\n",
      "Striped bass you can’t catch anyways\n",
      "More pictures of different kinds of fish, publicize\n",
      "How do you check for it? \n",
      "less small writing and use larger font for main points on types of fish okay vs not okay. \n",
      "The wallet card with the 'safe fish to eat' message was the clearest & most direct to me (card that is lower left in the pics above).  It got my attention and told which were the safest.\n",
      "To have the reference on hand\n",
      "Brochures less useful\n",
      "Traducir\n"
     ]
    }
   ],
   "source": [
    "list_of_columns = ['FREE FORM wallet card useful', 'FREE FORM wallet card not useful', 'FREE FORM improve wallet card']\n",
    "print_freeform_columns(list_of_columns)"
   ]
  },
  {
   "cell_type": "markdown",
   "metadata": {},
   "source": [
    "#### Refrigerator Magnet\n",
    "Only the people who reported not knowing how to fillet were shown the magnet, so we only got a few responses since the overwhelming majority of respondents reported knowing how to fillet"
   ]
  },
  {
   "cell_type": "code",
   "execution_count": 41,
   "metadata": {},
   "outputs": [
    {
     "data": {
      "text/plain": [
       "[('fish contaminants are stored in their fat', 2),\n",
       " ('other', 1),\n",
       " ('it is healthier to fillet a fish before eating it', 1)]"
      ]
     },
     "execution_count": 41,
     "metadata": {},
     "output_type": "execute_result"
    }
   ],
   "source": [
    "magnet_message = aggregate_mult_choice('magnet main message')\n",
    "sorted(magnet_message.items(), key = lambda x: x[1], reverse = True)  # This prints the dictionary in orderT"
   ]
  },
  {
   "cell_type": "markdown",
   "metadata": {},
   "source": [
    "There were a couple follow up responses on the magnets, just saying its useful and that filleting seems to be better for their health but not worth printing here. Also, our two responses from the WIC clinics were providing this feedback on the brochures, but didn't have much feedback other than the need to translate!"
   ]
  },
  {
   "cell_type": "markdown",
   "metadata": {},
   "source": [
    "### Likelihood, barriers, and motivations for different behaviors"
   ]
  },
  {
   "cell_type": "code",
   "execution_count": 42,
   "metadata": {},
   "outputs": [
    {
     "name": "stdout",
     "output_type": "stream",
     "text": [
      ">>> would eat fewer polluted fish: \n",
      "[('probably will do', 12), ('definitely will do', 11), ('probably not do', 9), ('definitely not do', 5), ('neutral', 4)]\n",
      ">>> would eat more lower pollution fish: \n",
      "[('probably will do', 19), ('definitely will do', 12), ('probably not do', 7), ('definitely not do', 2), ('neutral', 1)]\n",
      ">>> would fillet fish: \n",
      "[('definitely will do', 17), ('probably will do', 16), ('neutral', 5), ('probably not do', 3)]\n",
      ">>> would buy fish from market: \n",
      "[('probably will do', 16), ('definitely not do', 10), ('probably not do', 6), ('neutral', 5), ('definitely will do', 4)]\n",
      ">>> would grill or bake rather than fry: \n",
      "[('probably will do', 15), ('definitely will do', 11), ('probably not do', 10), ('neutral', 3), ('definitely not do', 2)]\n",
      ">>> would stop eating fish: \n",
      "[('definitely not do', 19), ('probably will do', 8), ('probably not do', 7), ('neutral', 3), ('definitely will do', 1)]\n"
     ]
    }
   ],
   "source": [
    "columns = ['would eat fewer polluted fish', 'would eat more lower pollution fish', 'would fillet fish', \n",
    "           'would buy fish from market', 'would grill or bake rather than fry', 'would stop eating fish']\n",
    "for header in columns:\n",
    "    behavior_likelihood = aggregate_mult_choice(header)\n",
    "    print('>>> ' + header + ': ')\n",
    "    print(sorted(behavior_likelihood.items(), key = lambda x: x[1], reverse = True))"
   ]
  },
  {
   "cell_type": "markdown",
   "metadata": {},
   "source": [
    "Please note, this output can be seen in a much more visually appealing format in our presentation! But this does show how we aggregated the responses. For the above, I print out the most commonly selected choice first, next to the number of times it was chosen."
   ]
  },
  {
   "cell_type": "markdown",
   "metadata": {},
   "source": [
    "We got a ton of clarification on people's choices. Here I'll list what we recorded from people's free form responses by which behavior they were responding to:"
   ]
  },
  {
   "cell_type": "code",
   "execution_count": 43,
   "metadata": {
    "scrolled": true
   },
   "outputs": [
    {
     "name": "stdout",
     "output_type": "stream",
     "text": [
      ">>> other risk reduction option (verbal responses): \n",
      "Deep fry the fish to kill bacteria and get rid of contaminant \n",
      "Limit the fish I eat. From there.  \n",
      ">>> eat less polluted fish (verbal responses): \n",
      "I like it fresh\n",
      "Don’t eat catfish or bass\n",
      "Does not\n",
      "Fish is fish, \n",
      "People will eat what they are going to eat\n",
      "Recent immigrants don’t yet understand regulations or what’s safe vs, not. Also maybe don’t care\n",
      "People have preferences for fish\n",
      "People eat what they catch\n",
      "Catfish are what people want to catch\n",
      "He likes them\n",
      "People like to eat these\n",
      "i don't like eating those types of fish\n",
      ">>> eat more fish with lower pollution (verbal responses): \n",
      "likes shrimp\n",
      "Same as above\n",
      "Kingfish looked good. People don’t like shad or spot or bluegill. Shrimp is alright, so are specks.\n",
      "People eat what they catch\n",
      "Some people come to eat what they want but will follow signs\n",
      "If they’re big enough. Otherwise bait. These are all bait!\n",
      "May eat these\n",
      "i like to eat speckled trout\n",
      ">>> fillet fish (verbal responses): \n",
      "Algunos prefieren freir\n",
      "People just do what’s easy.\n",
      "If frying not getting rid of skin\n",
      "Fillet for bigger fish. Not for little ones\n",
      "i always fillet and skin the fish i catch\n",
      ">>> grocery store fish (verbal responses): \n",
      "Like fresh fish and know where it’s from. And grocery store fish might add chemicals \n",
      "wants them fresh and local\n",
      "Trust myself more than grocery stores \n",
      "Muy caro\n",
      "After the storm people knew not to eat\n",
      "Likes fresh fish \n",
      "Fresh fish preference. \n",
      "Some people do\n",
      "Fresh fish preference. \n",
      "Tastes better fresh from river\n",
      "It is not as fresh and is more expensive\n",
      "i only like fresh fish\n",
      "Our local grocery stores don't sell local caught fish. It's mostly foreign. If we want fresh local fish, the local seafood markets are usually too expensive. It's cheaper to catch your own.\n",
      ">>> other cooking methods (verbal responses): \n",
      "Everybody wants fried catfish nuggets\n",
      "Freír es facil\n",
      "I don’t see what the difference would be\n",
      "People prepare it how they are used to\n",
      "Probably not, frying is easy\n",
      "People like their cooking methods\n",
      "Don’t think you can cook pollutants out\n",
      "Frying is easy\n",
      "He does bake\n",
      "Frying does the same thing to remove contaminants. His is at 400\n",
      "Somebfish are better fried.  \n",
      "i like all cooking methods\n",
      "Asado si\n",
      ">>> stop eating fish (verbal responses): \n",
      "Daniel Boone complex. Getting own food. Self sustainability. \n",
      "Close and fresh fish. Want to know the source. \n",
      "Only if they’re all contaminated. Some more concerned than others\n",
      "Will stop if he knows what exact pollutions are in here \n",
      "been doing it for his whole life \n",
      "No because it’s a key part of diet\n",
      "Wants local fresh fish\n",
      "If it got extreme enough. Feels safe here above chem plant\n",
      "good and reliable source of food\n",
      "If the fish are here it free food\n",
      "Hay que comer\n",
      "Es gratis, una manera de relajar\n",
      "If the news said so\n",
      "Unless something major happens, people will keep eating fish from the river and creek\n",
      "People have been doing it their whole lives. You kill it you eat it\n",
      "With enough warnings, though. Retain communities would not listen or bother\n",
      "No matter where they go there will still find fish from river\n",
      "Good source of food\n",
      "Way of life\n",
      "If it’s bad enough. People stopped fishing at smith creek\n",
      "No. Easier to quit eating McDonald’s \n",
      "People will follow signs\n",
      "People like it\n",
      "I always check for visible signs of defects on fish and never eat these\n",
      "i enjoy fishing\n",
      "We have not been sickened by fish we've caught and ate.  \n",
      "Porque\n"
     ]
    }
   ],
   "source": [
    "list_of_columns = ['FREE FORM other risk reduction option', 'FREE FORM eat less polluted fish', 'FREE FORM eat more fish with lower pollution', 'FREE FORM fillet fish', 'FREE FORM grocery store fish', 'FREE FORM other cooking methods', 'FREE FORM stop eating fish']\n",
    "print_freeform_columns(list_of_columns)"
   ]
  },
  {
   "cell_type": "markdown",
   "metadata": {},
   "source": [
    "### Final Comments\n",
    "That's it for the official data. Here were all the last things people had to say!"
   ]
  },
  {
   "cell_type": "code",
   "execution_count": 44,
   "metadata": {},
   "outputs": [
    {
     "name": "stdout",
     "output_type": "stream",
     "text": [
      ">>> last comments (verbal responses): \n",
      "Nice meeting ya\n",
      "Concerned about sewage in water. \n",
      "Tratar de tener limpio los sitios que uno va a pescar para no tener problema con nadie. Con la ley. Botar basura\n",
      "When is more research gonna be done? They know these companies are here, and they should be the ones to do it. \n",
      "would like to know more about the whole deal with CFR\n",
      "Appreciate us doing this and working on this. Anything we can do to reduce pollution.\n",
      "You can see the pollution especially plástic and it’s impact on wildlife\n",
      "In army\n",
      "Good luck\n",
      "Compartir más \n",
      "Me encanto la pesca\n",
      "Fishing is good for you. Relaxing and stress free. \n",
      "Going further up the river\n",
      "What we’re doing is important for the environment and for the people. People only learn not to fish if people die. We need science to forewarn us.\n",
      "Fillet on the card. Put it at bait shops and grocery stores. Also around Southport . Keep talking to people\n",
      "Glad we’re doing it\n",
      "Nope\n",
      "Good work\n",
      "Glad there’s people out here working in the environment, being outside is my favorite thing to do, we have to take care of it.\n",
      "Everything messed up. Man has dominion over the earth. Water color has changed. \n",
      "Good luck to you\n",
      "Channel 6, WCT reporter. Young guy would like to do story. \n",
      "Main concern is about sewage. Needs to stop. Poison going in to river needs to stop.\n",
      "If fish in our area are indicated as unsafe (which all of them probably are because of the gen-x and pollutants), it would hurt the economy and big business. They are number one, not the people.\n",
      "keep up the good work. GO HEELS!!!\n",
      "Yikes!\n",
      "Nope that’s it\n",
      "No\n"
     ]
    }
   ],
   "source": [
    "print_freeform_columns(['FREE FORM last comments'])"
   ]
  },
  {
   "cell_type": "code",
   "execution_count": null,
   "metadata": {},
   "outputs": [],
   "source": []
  }
 ],
 "metadata": {
  "kernelspec": {
   "display_name": "Python 3",
   "language": "python",
   "name": "python3"
  },
  "language_info": {
   "codemirror_mode": {
    "name": "ipython",
    "version": 3
   },
   "file_extension": ".py",
   "mimetype": "text/x-python",
   "name": "python",
   "nbconvert_exporter": "python",
   "pygments_lexer": "ipython3",
   "version": "3.7.6"
  }
 },
 "nbformat": 4,
 "nbformat_minor": 4
}
